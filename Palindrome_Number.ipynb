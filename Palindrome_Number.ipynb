{
 "cells": [
  {
   "cell_type": "markdown",
   "metadata": {
    "collapsed": true,
    "pycharm": {
     "name": "#%% md\n"
    }
   },
   "source": [
    "# Problem9 Palindrome Number\n",
    "\n",
    "Determine whether an integer is a palindrome. An integer is a palindrome when it reads the same backward as forward.\n",
    "\n",
    "**Solve it without converting the integer to a string.**\n",
    "\n",
    "## Example 1:\n",
    "\n",
    ">Input: 121\n",
    ">\n",
    ">Output: true\n",
    ">\n",
    "\n",
    "## Example 2:\n",
    "\n",
    ">Input: -121\n",
    ">\n",
    ">Output: false\n",
    ">\n",
    ">Explanation: From left to right, it reads -121. From right to left, it becomes 121-. Therefore it is not a palindrome.\n",
    "\n",
    "## Example 3:\n",
    "\n",
    ">Input: 10\n",
    ">\n",
    ">Output: false\n",
    ">\n",
    ">Explanation: Reads 01 from right to left. Therefore it is not a palindrome.\n",
    "\n",
    "\n"
   ]
  },
  {
   "cell_type": "code",
   "execution_count": null,
   "outputs": [],
   "source": [
    "class Solution:\n",
    "    def isPalindrome(self, x: int) -> bool:\n",
    "        if x==0:\n",
    "            return True\n",
    "        if (x < 0) or (x%10==0):\n",
    "            return False\n",
    "        remain = x\n",
    "        revert = 0\n",
    "        while revert < remain:\n",
    "            d = remain % 10\n",
    "            remain = remain // 10\n",
    "            revert = revert*10+d\n",
    "        if revert == remain:\n",
    "            return True\n",
    "        elif revert//10 == remain:\n",
    "            return True\n",
    "        else:\n",
    "            return False\n"
   ],
   "metadata": {
    "collapsed": false,
    "pycharm": {
     "name": "#%%\n"
    }
   }
  }
 ],
 "metadata": {
  "kernelspec": {
   "display_name": "Python 3",
   "language": "python",
   "name": "python3"
  },
  "language_info": {
   "codemirror_mode": {
    "name": "ipython",
    "version": 2
   },
   "file_extension": ".py",
   "mimetype": "text/x-python",
   "name": "python",
   "nbconvert_exporter": "python",
   "pygments_lexer": "ipython2",
   "version": "2.7.6"
  },
  "pycharm": {
   "stem_cell": {
    "cell_type": "raw",
    "source": [],
    "metadata": {
     "collapsed": false
    }
   }
  }
 },
 "nbformat": 4,
 "nbformat_minor": 0
}