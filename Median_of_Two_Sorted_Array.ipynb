{
 "cells": [
  {
   "cell_type": "markdown",
   "metadata": {
    "collapsed": true,
    "pycharm": {
     "name": "#%% md\n"
    }
   },
   "source": [
    "# Problem4 Median of Two Sorted Array\n",
    "\n",
    "There are two sorted arrays nums1 and nums2 of size m and n respectively.\n",
    "\n",
    "Find the median of the two sorted arrays. The overall run time complexity should be O(log (m+n)).\n",
    "\n",
    "You may assume nums1 and nums2 cannot be both empty.\n",
    "\n",
    "## Example 1:\n",
    "\n",
    ">nums1 = [1, 3]\n",
    ">\n",
    ">nums2 = [2]\n",
    ">\n",
    ">The median is 2.0\n",
    "\n",
    "## Example 2:\n",
    "\n",
    ">nums1 = [1, 2]\n",
    ">\n",
    ">nums2 = [3, 4]\n",
    ">\n",
    ">The median is (2 + 3)/2 = 2.5\n"
   ]
  },
  {
   "cell_type": "code",
   "execution_count": null,
   "outputs": [],
   "source": [
    "class Solution:\n",
    "    # this is my best performance solution. The idea is based on merge sort\n",
    "    def findMedianSortedArrays1(self, nums1: List[int], nums2: List[int]) -> float:\n",
    "        m = 0\n",
    "        n = 0\n",
    "        join = list()\n",
    "        while (m < len(nums1)) and (n < len(nums2)):\n",
    "            if nums1[m] <= nums2[n]:\n",
    "                join.append(nums1[m])\n",
    "                m += 1\n",
    "            else:\n",
    "                join.append(nums2[n])\n",
    "                n += 1\n",
    "        if m < len(nums1):\n",
    "            join.extend(nums1[m:])\n",
    "        elif n < len(nums2):\n",
    "            join.extend(nums2[n:])\n",
    "        if len(join)%2 == 1:\n",
    "            return join[int((len(join)-1)/2)]\n",
    "        else:\n",
    "            return (join[int(len(join)/2)] + join[int(len(join)/2-1)])/2\n",
    "     \n",
    "     \n",
    "    # this one tried the idea of the official solution. But, the performance is not ideal.   \n",
    "    def findMedianSortedArrays(self, nums1: List[int], nums2: List[int]) -> float:\n",
    "        if len(nums1)==0:\n",
    "            if len(nums2)%2==0:\n",
    "                return (nums2[int(len(nums2)//2)]+nums2[int(len(nums2)//2-1)])/2\n",
    "            else:\n",
    "                return nums2[int((len(nums2)-1)/2)]\n",
    "        if len(nums2)==0:\n",
    "            if len(nums1)%2==0:\n",
    "                return (nums1[int(len(nums1)//2)]+nums1[int(len(nums1)//2-1)])/2\n",
    "            else:\n",
    "                return nums1[int((len(nums1)-1)/2)]\n",
    "        full_len = len(nums1) + len(nums2)\n",
    "        left_len = (len(nums1) + len(nums2))//2\n",
    "        for i in range(0,len(nums1)+1):\n",
    "            left_a = nums1[:i]\n",
    "            right_a = nums1[i:]\n",
    "            if len(nums2)<left_len-i:\n",
    "                return self.findMedianSortedArrays(nums2,nums1)\n",
    "            left_b = nums2[:left_len-i]\n",
    "            right_b = nums2[left_len-i:]\n",
    "            if (len(left_a)==0) and (left_b[-1]<=right_a[0]):\n",
    "                break\n",
    "            if (len(left_b)==0) and (left_a[-1]<=right_b[0]):\n",
    "                break\n",
    "            if (len(right_a)==0) and (left_a[-1]<=right_b[0]):\n",
    "                break\n",
    "            if (len(right_b)==0) and (left_b[-1]<=right_a[0]):\n",
    "                break\n",
    "            try:\n",
    "                if (left_a[-1]<=right_b[0]) and (left_b[-1]<=right_a[0]):\n",
    "                    break\n",
    "                else:\n",
    "                    pass\n",
    "            except IndexError:\n",
    "                pass\n",
    "        else:\n",
    "            return self.findMedianSortedArrays(nums2,nums1)\n",
    "        try:\n",
    "            left = max(left_a[-1],left_b[-1])\n",
    "            right = min(right_a[0],right_b[0])\n",
    "        except IndexError:\n",
    "            if len(left_a)==0:\n",
    "                left = left_b[-1]\n",
    "                if len(right_b) != 0:\n",
    "                    right = min(right_a[0],right_b[0])\n",
    "                else:\n",
    "                    right = right_a[0]\n",
    "            elif len(left_b)==0:\n",
    "                left = left_a[-1]\n",
    "                if len(right_a) != 0:\n",
    "                    right = min(right_a[0],right_b[0])\n",
    "                else:\n",
    "                    right = right_b[0]\n",
    "            elif len(right_a)==0:\n",
    "                right = right_b[0]\n",
    "                if len(left_b) != 0:\n",
    "                    left = max(left_a[-1],left_b[-1])\n",
    "                else:\n",
    "                    left = left_a[-1]\n",
    "            elif len(right_b)==0:\n",
    "                right = right_a[0]\n",
    "                if len(left_a) != 0:\n",
    "                    left = max(left_a[-1],left_b[-1])\n",
    "                else:\n",
    "                    left = left_b[-1]\n",
    "        if left_len == full_len - left_len:\n",
    "            return (left+right)/2\n",
    "        else:\n",
    "            return right\n"
   ],
   "metadata": {
    "collapsed": false,
    "pycharm": {
     "name": "#%%\n"
    }
   }
  }
 ],
 "metadata": {
  "kernelspec": {
   "display_name": "Python 3",
   "language": "python",
   "name": "python3"
  },
  "language_info": {
   "codemirror_mode": {
    "name": "ipython",
    "version": 2
   },
   "file_extension": ".py",
   "mimetype": "text/x-python",
   "name": "python",
   "nbconvert_exporter": "python",
   "pygments_lexer": "ipython2",
   "version": "2.7.6"
  },
  "pycharm": {
   "stem_cell": {
    "cell_type": "raw",
    "source": [],
    "metadata": {
     "collapsed": false
    }
   }
  }
 },
 "nbformat": 4,
 "nbformat_minor": 0
}