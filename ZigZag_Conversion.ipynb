{
 "cells": [
  {
   "cell_type": "markdown",
   "source": [
    "# Problem6 ZigZag Conversion\n",
    "The string \"PAYPALISHIRING\" is written in a zigzag pattern on a given number of rows like this: (you may want to display this pattern in a fixed font for better legibility)\n",
    "\n",
    "```\n",
    "P   A   H   N\n",
    "\n",
    "A P L S I I G\n",
    "\n",
    "Y   I   R\n",
    "```\n",
    "\n",
    "And then read line by line: \"PAHNAPLSIIGYIR\"\n",
    "\n",
    "Write the code that will take a string and make this conversion given a number of rows:\n",
    "\n",
    "string convert(string s, int numRows);\n",
    "\n",
    "### Example 1:\n",
    "\n",
    ">Input: s = \"PAYPALISHIRING\", numRows = 3\n",
    ">\n",
    ">Output: \"PAHNAPLSIIGYIR\"\n",
    "\n",
    "### Example 2:\n",
    "\n",
    ">Input: s = \"PAYPALISHIRING\", numRows = 4\n",
    ">\n",
    ">Output: \"PINALSIGYAHRPI\"\n",
    ">\n",
    ">Explanation:\n",
    ">```\n",
    ">P     I    N\n",
    ">\n",
    ">A   L S  I G\n",
    ">\n",
    ">Y A   H R\n",
    ">\n",
    ">P     I\n",
    ">```"
   ],
   "metadata": {
    "collapsed": false,
    "pycharm": {
     "name": "#%% md\n"
    }
   }
  },
  {
   "cell_type": "code",
   "execution_count": null,
   "outputs": [],
   "source": [
    "class Solution:\n",
    "    def convert2(self, s: str, numRows: int) -> str:\n",
    "        if numRows == 1:\n",
    "            return s\n",
    "        result = ''\n",
    "        interval = 2*(numRows-1)\n",
    "        for r in range(1,numRows+1):\n",
    "            if r == 1:\n",
    "                li = list(range(0,len(s),interval))\n",
    "                result += ''.join([s[j] for j in li])\n",
    "            elif r == numRows:\n",
    "                li = list(range(numRows-1,len(s),interval))\n",
    "                result += ''.join([s[j] for j in li])\n",
    "            else:\n",
    "                p1 = list(range(r-1,len(s),interval))\n",
    "                p2 = list(range(r-1+2*(numRows-r),len(s),interval))\n",
    "                li = list(zip(p1,p2))\n",
    "                li = [y for x in li for y in x]\n",
    "                if len(p1) > len(p2):\n",
    "                    li.append(p1[-1])\n",
    "                elif len(p1) < len(p2):\n",
    "                    li.append(p2[-1])\n",
    "                result += ''.join([s[j] for j in li])\n",
    "        return result\n",
    "    \n",
    "   \n",
    "    def convert(self, s: str, numRows: int) -> str:\n",
    "        if numRows == 1:\n",
    "            return s\n",
    "        result = ['']*numRows\n",
    "        current = 0\n",
    "        direction = True  #down\n",
    "        for i in s:\n",
    "            result[current] += i\n",
    "            if current == 0:\n",
    "                direction = True\n",
    "            if current == numRows-1:\n",
    "                direction = False\n",
    "            if direction:\n",
    "                current += 1\n",
    "            else:\n",
    "                current -= 1\n",
    "        return ''.join(result)\n",
    "\n"
   ],
   "metadata": {
    "collapsed": false,
    "pycharm": {
     "name": "#%%\n"
    }
   }
  }
 ],
 "metadata": {
  "kernelspec": {
   "display_name": "Python 3",
   "language": "python",
   "name": "python3"
  },
  "language_info": {
   "codemirror_mode": {
    "name": "ipython",
    "version": 2
   },
   "file_extension": ".py",
   "mimetype": "text/x-python",
   "name": "python",
   "nbconvert_exporter": "python",
   "pygments_lexer": "ipython2",
   "version": "2.7.6"
  },
  "pycharm": {
   "stem_cell": {
    "cell_type": "raw",
    "source": [],
    "metadata": {
     "collapsed": false
    }
   }
  }
 },
 "nbformat": 4,
 "nbformat_minor": 0
}