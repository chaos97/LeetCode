{
 "cells": [
  {
   "cell_type": "markdown",
   "metadata": {
    "collapsed": true,
    "pycharm": {
     "name": "#%% md\n"
    }
   },
   "source": [
    "# Problem2 Add Two Numbers\n",
    "\n",
    "You are given two non-empty linked lists representing two non-negative integers. The digits are stored in reverse order and each of their nodes contain a single digit. Add the two numbers and return it as a linked list.\n",
    "\n",
    "You may assume the two numbers do not contain any leading zero, except the number 0 itself.\n",
    "\n",
    "## Example:\n",
    "\n",
    ">Input: (2 -> 4 -> 3) + (5 -> 6 -> 4)\n",
    ">\n",
    ">Output: 7 -> 0 -> 8\n",
    ">\n",
    ">Explanation: 342 + 465 = 807.\n",
    "\n"
   ]
  },
  {
   "cell_type": "code",
   "execution_count": null,
   "outputs": [],
   "source": [
    "# Definition for singly-linked list.\n",
    "# class ListNode:\n",
    "#     def __init__(self, x):\n",
    "#         self.val = x\n",
    "#         self.next = None\n",
    "\n",
    "class Solution:\n",
    "    def addTwoNumbers(self, l1: ListNode, l2: ListNode) -> ListNode:\n",
    "        result = ListNode(0)\n",
    "        r = result\n",
    "        while l1 and l2:\n",
    "            if l1.val + l2.val + result.val < 10:\n",
    "                result.val = l1.val + l2.val + result.val\n",
    "                l1 = l1.next\n",
    "                l2 = l2.next\n",
    "                result.next = ListNode(0)\n",
    "                former = result\n",
    "                result = result.next\n",
    "            else:\n",
    "                result.val = l1.val + l2.val + result.val - 10\n",
    "                result.next = ListNode(1)\n",
    "                former = result\n",
    "                result = result.next\n",
    "                l1 = l1.next\n",
    "                l2 = l2.next\n",
    "        while l1:\n",
    "            if l1.val + result.val <10:\n",
    "                result.val = result.val + l1.val\n",
    "                result.next = ListNode(0)\n",
    "                former = result\n",
    "                result = result.next\n",
    "                l1 = l1.next\n",
    "            else:\n",
    "                result.val = result.val + l1.val - 10\n",
    "                result.next = ListNode(1)\n",
    "                former = result\n",
    "                result = result.next\n",
    "                l1 = l1.next\n",
    "        while l2:\n",
    "            if l2.val + result.val <10:\n",
    "                result.val = result.val + l2.val\n",
    "                result.next = ListNode(0)\n",
    "                former = result\n",
    "                result = result.next\n",
    "                l2 = l2.next\n",
    "            else:\n",
    "                result.val = result.val + l2.val - 10\n",
    "                result.next = ListNode(1)\n",
    "                former = result\n",
    "                result = result.next\n",
    "                l2 = l2.next\n",
    "        if result.val == 0:\n",
    "            former.next = None\n",
    "        return r"
   ],
   "metadata": {
    "collapsed": false,
    "pycharm": {
     "name": "#%%\n"
    }
   }
  }
 ],
 "metadata": {
  "kernelspec": {
   "display_name": "Python 3",
   "language": "python",
   "name": "python3"
  },
  "language_info": {
   "codemirror_mode": {
    "name": "ipython",
    "version": 2
   },
   "file_extension": ".py",
   "mimetype": "text/x-python",
   "name": "python",
   "nbconvert_exporter": "python",
   "pygments_lexer": "ipython2",
   "version": "2.7.6"
  },
  "pycharm": {
   "stem_cell": {
    "cell_type": "raw",
    "source": [],
    "metadata": {
     "collapsed": false
    }
   }
  }
 },
 "nbformat": 4,
 "nbformat_minor": 0
}