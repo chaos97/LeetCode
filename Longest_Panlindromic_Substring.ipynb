{
 "cells": [
  {
   "cell_type": "markdown",
   "metadata": {
    "collapsed": true,
    "pycharm": {
     "name": "#%% md\n"
    }
   },
   "source": [
    "# Problem5 Longest Palindromic Substring\n",
    "\n",
    "Given a string s, find the longest palindromic substring in s. You may assume that the maximum length of s is 1000.\n",
    "\n",
    "## Example 1:\n",
    "\n",
    ">Input: \"babad\"\n",
    ">\n",
    ">Output: \"bab\"\n",
    ">\n",
    ">Note: \"aba\" is also a valid answer.\n",
    "\n",
    "## Example 2:\n",
    "\n",
    ">Input: \"cbbd\"\n",
    ">\n",
    ">Output: \"bb\""
   ]
  },
  {
   "cell_type": "code",
   "execution_count": null,
   "outputs": [],
   "source": [
    "class Solution:\n",
    "    def longestPalindrome(self, s: str) -> str:\n",
    "        for i in range(0,len(s)):\n",
    "            for j in range(0,i+1):\n",
    "                if s[j:j+len(s)-i] == s[j:j+len(s)-i][-1::-1]:\n",
    "                    return s[j:j+len(s)-i]\n",
    "        return ''\n"
   ],
   "metadata": {
    "collapsed": false,
    "pycharm": {
     "name": "#%%\n"
    }
   }
  }
 ],
 "metadata": {
  "kernelspec": {
   "display_name": "Python 3",
   "language": "python",
   "name": "python3"
  },
  "language_info": {
   "codemirror_mode": {
    "name": "ipython",
    "version": 2
   },
   "file_extension": ".py",
   "mimetype": "text/x-python",
   "name": "python",
   "nbconvert_exporter": "python",
   "pygments_lexer": "ipython2",
   "version": "2.7.6"
  },
  "pycharm": {
   "stem_cell": {
    "cell_type": "raw",
    "source": [],
    "metadata": {
     "collapsed": false
    }
   }
  }
 },
 "nbformat": 4,
 "nbformat_minor": 0
}