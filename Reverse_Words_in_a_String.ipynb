{
 "cells": [
  {
   "cell_type": "markdown",
   "metadata": {
    "collapsed": true,
    "pycharm": {
     "name": "#%% md\n"
    }
   },
   "source": [
    "# Problem151 Reverse Words in a String\n",
    "\n",
    "Given an input string, reverse the string word by word.\n",
    "\n",
    " \n",
    "\n",
    "## Example 1:\n",
    "\n",
    ">Input: \"the sky is blue\"\n",
    ">\n",
    ">Output: \"blue is sky the\"\n",
    "\n",
    "## Example 2:\n",
    "\n",
    ">Input: \"  hello world!  \"\n",
    ">\n",
    ">Output: \"world! hello\"\n",
    ">\n",
    ">Explanation: Your reversed string should not contain leading or trailing spaces.\n",
    "\n",
    "## Example 3:\n",
    "\n",
    ">Input: \"a good   example\"\n",
    ">\n",
    ">Output: \"example good a\"\n",
    ">\n",
    ">Explanation: You need to reduce multiple spaces between two words to a single space in the reversed string.\n",
    " \n",
    "\n",
    "### Note:\n",
    ">\n",
    ">A word is defined as a sequence of non-space characters.\n",
    ">\n",
    ">Input string may contain leading or trailing spaces. However, your reversed string should not contain leading or trailing spaces.\n",
    ">\n",
    ">You need to reduce multiple spaces between two words to a single space in the reversed string."
   ]
  },
  {
   "cell_type": "code",
   "execution_count": null,
   "outputs": [],
   "source": [
    "class Solution:\n",
    "    def reverseWords(self, s: str) -> str:\n",
    "        li = s.split()\n",
    "        return ' '.join(li[-1::-1])\n"
   ],
   "metadata": {
    "collapsed": false,
    "pycharm": {
     "name": "#%%\n"
    }
   }
  }
 ],
 "metadata": {
  "kernelspec": {
   "display_name": "Python 3",
   "language": "python",
   "name": "python3"
  },
  "language_info": {
   "codemirror_mode": {
    "name": "ipython",
    "version": 2
   },
   "file_extension": ".py",
   "mimetype": "text/x-python",
   "name": "python",
   "nbconvert_exporter": "python",
   "pygments_lexer": "ipython2",
   "version": "2.7.6"
  },
  "pycharm": {
   "stem_cell": {
    "cell_type": "raw",
    "source": [],
    "metadata": {
     "collapsed": false
    }
   }
  }
 },
 "nbformat": 4,
 "nbformat_minor": 0
}