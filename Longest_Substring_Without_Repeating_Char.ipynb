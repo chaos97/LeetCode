{
 "cells": [
  {
   "cell_type": "markdown",
   "metadata": {
    "collapsed": true,
    "pycharm": {
     "name": "#%% md\n"
    }
   },
   "source": [
    "# Problem3 Longest Substring Without Repeating Characters\n",
    "\n",
    "Given a string, find the length of the longest substring without repeating characters.\n",
    "\n",
    "## Example 1:\n",
    "\n",
    ">Input: \"abcabcbb\"\n",
    ">\n",
    ">Output: 3 \n",
    ">\n",
    ">Explanation: The answer is \"abc\", with the length of 3. \n",
    "\n",
    "## Example 2:\n",
    "\n",
    ">Input: \"bbbbb\"\n",
    ">\n",
    ">Output: 1\n",
    ">\n",
    ">Explanation: The answer is \"b\", with the length of 1.\n",
    "\n",
    "## Example 3:\n",
    "\n",
    ">Input: \"pwwkew\"\n",
    ">\n",
    ">Output: 3\n",
    ">\n",
    ">Explanation: The answer is \"wke\", with the length of 3. \n",
    "             Note that the answer must be a substring, \"pwke\" is a subsequence and not a substring.\n"
   ]
  },
  {
   "cell_type": "code",
   "execution_count": null,
   "outputs": [],
   "source": [
    "class Solution:\n",
    "    # this is the most basic one\n",
    "    def lengthOfLongestSubstring2(self, s: str) -> int:\n",
    "        if s == \"\":\n",
    "            return 0\n",
    "        length = [1]\n",
    "        for i in range(len(s)):\n",
    "            for j in range(i+1,len(s)):\n",
    "                if s[j] in s[i:j]:\n",
    "                    length.append(j-i)\n",
    "                    break\n",
    "                else:\n",
    "                    continue\n",
    "            else:\n",
    "                length.append(len(s)-i)\n",
    "        return max(length)\n",
    "    \n",
    "    \n",
    "    # this is an improved version of lengthOfLongestSubstring2\n",
    "    def lengthOfLongestSubstring3(self, s: str) -> int:\n",
    "        if s == \"\":\n",
    "            return 0\n",
    "        i = 0\n",
    "        length = list()\n",
    "        while i < len(s):\n",
    "            for j in range(i,len(s)):\n",
    "                if s[j] in s[i:j]:\n",
    "                    length.append(j-i)\n",
    "                    i = i + s[i:j].find(s[j]) + 1\n",
    "                    break\n",
    "                else:\n",
    "                    pass\n",
    "            else:\n",
    "                length.append(len(s)-i)\n",
    "                i += 1\n",
    "        return max(length)\n",
    "    \n",
    "    \n",
    "    # this is the best performance one\n",
    "    def lengthOfLongestSubstring(self, s: str) -> int:\n",
    "        dic = dict()\n",
    "        start = 0\n",
    "        dis = 0\n",
    "        for i,c in enumerate(s):\n",
    "            if c not in dic.keys():\n",
    "                dic[c] = i\n",
    "                dis = max(i - start+1,dis)\n",
    "            elif dic[c] >= start:\n",
    "                dis = max(i - start,dis)\n",
    "                start = dic[c] + 1\n",
    "                dic[c] = i\n",
    "            else:\n",
    "                dic[c] = i\n",
    "                dis = max(dis,i - start + 1)\n",
    "        return dis\n",
    "\n"
   ],
   "metadata": {
    "collapsed": false,
    "pycharm": {
     "name": "#%%\n"
    }
   }
  }
 ],
 "metadata": {
  "kernelspec": {
   "display_name": "Python 3",
   "language": "python",
   "name": "python3"
  },
  "language_info": {
   "codemirror_mode": {
    "name": "ipython",
    "version": 2
   },
   "file_extension": ".py",
   "mimetype": "text/x-python",
   "name": "python",
   "nbconvert_exporter": "python",
   "pygments_lexer": "ipython2",
   "version": "2.7.6"
  },
  "pycharm": {
   "stem_cell": {
    "cell_type": "raw",
    "source": [],
    "metadata": {
     "collapsed": false
    }
   }
  }
 },
 "nbformat": 4,
 "nbformat_minor": 0
}